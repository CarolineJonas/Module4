{
 "cells": [
  {
   "cell_type": "markdown",
   "metadata": {},
   "source": [
    "***Méthodes numériques: Module 4***\n",
    "\n",
    "# Grey Scott model\n",
    "\n",
    "Nous commencons par importer la librairie numpy, matplotlib et matplotlib.cm qui nous permettra de dessiner des **cartes**.\n",
    "Ensuite nous définissons tous nos paramètres et nous importons le fichier contenant les données initiales u et v qui se trouve dans le fichier data du même dépôt."
   ]
  },
  {
   "cell_type": "code",
   "execution_count": 1,
   "metadata": {
    "collapsed": true
   },
   "outputs": [],
   "source": [
    "import numpy\n",
    "from matplotlib import pyplot\n",
    "import matplotlib.cm as cm\n",
    "%matplotlib inline"
   ]
  },
  {
   "cell_type": "code",
   "execution_count": 2,
   "metadata": {
    "collapsed": true
   },
   "outputs": [],
   "source": [
    "n = 192\n",
    "Du, Dv, F, k = 0.00016, 0.00008, 0.035, 0.065 # Bacteria 1 \n",
    "dh = 5/(n-1)\n",
    "T = 8000\n",
    "dt = .9 * dh**2 / (4*max(Du,Dv))\n",
    "nt = int(T/dt)"
   ]
  },
  {
   "cell_type": "code",
   "execution_count": 3,
   "metadata": {
    "collapsed": false
   },
   "outputs": [],
   "source": [
    "uvinitial = numpy.load('./data/uvinitial.npz')\n",
    "U = uvinitial['U']\n",
    "V = uvinitial['V']"
   ]
  },
  {
   "cell_type": "markdown",
   "metadata": {
    "collapsed": true
   },
   "source": [
    "Le système d'équations différentielles à résoudre s'écrit:\n",
    "\n",
    "\n",
    "\\begin{align}\n",
    "\\frac{\\partial u}{\\partial t} &= D_u \\nabla ^2 u - uv^2 + F(1-u)\\\\\n",
    "\\frac{\\partial v}{\\partial t} &= D_v \\nabla ^2 v + uv^2 - (F + k)v\n",
    "\\end{align}\n",
    "\n",
    "## Méthode explicite\n",
    "\n",
    "Nous allons le discrétiser vers l'avant dans le temps et par un schéma centré dans l'espace (forward-time,centred-space). Nous allons le résoudre par un schéma explicite: la discrétisation dans l'espace s'effectue au temps n:\n",
    "\n",
    "\n",
    "\\begin{align}\n",
    "\\frac{u_{i,j}^{n+1}-u_{i,j}^{n}}{\\Delta t}= D_{u}*(\\frac{u_{i+1,j}^{n}-2u_{i,j}^{n}+u_{i-1,j}^{n}}{\\Delta x^2}+\\frac{u_{i,j+1}^{n}-2u_{i,j}^{n}+u_{i,j-1}^{n}}{\\Delta y^2})-u_{i,j}^{n}*(v_{i,j}^{n})^2+F(1-u_{i,j}^{n})\\\\\n",
    "\\frac{v_{i,j}^{n+1}-v_{i,j}^{n}}{\\Delta t}=D_{v}*(\\frac{v_{i+1,j}^{n}-2v_{i,j}^{n}+v_{i-1,j}^{n}}{\\Delta x^2}+\\frac{v_{i,j+1}^{n}-2v_{i,j}^{n}+v_{i,j-1}^{n}}{\\Delta y^2})+u_{i,j}^{n}*(v_{i,j}^{n})^2-F(1+k)v_{i,j}^{n}\n",
    "\\end{align}"
   ]
  },
  {
   "cell_type": "markdown",
   "metadata": {
    "collapsed": true
   },
   "source": [
    "On pose ensuite \n",
    "\\begin{align}\n",
    "\\Delta x^2=\\Delta y^2=\\delta^2\\\\\n",
    "\\Delta t= \\frac{9}{40}\\frac{\\delta^2}{\\max(D_u, D_v)}\n",
    "\\end{align}"
   ]
  },
  {
   "cell_type": "markdown",
   "metadata": {},
   "source": [
    "On met tous les termes connus dans le membre de droite et les termes inconnus dans le membre de gauche:"
   ]
  },
  {
   "cell_type": "markdown",
   "metadata": {},
   "source": [
    "\\begin{align}\n",
    "u_{i,j}^{n+1}=u_{i,j}^{n}+\\Delta t(\\frac{u_{i+1,j}^{n}-2u_{i,j}^{n}+u_{i-1,j}^{n}}{\\delta^2}+\\frac{u_{i,j+1}^{n}-2u_{i,j}^{n}+u_{i,j-1}^{n}}{\\delta^2}-u_{i,j}^{n}*(v_{i,j}^{n})^2+F(1-u_{i,j}^{n}))\\\\\n",
    "v_{i,j}^{n+1}=v_{i,j}^{n}+\\Delta t(\\frac{v_{i+1,j}^{n}-2v_{i,j}^{n}+v_{i-1,j}^{n}}{\\delta^2}+\\frac{v_{i,j+1}^{n}-2v_{i,j}^{n}+v_{i,j-1}^{n}}{\\delta^2}+u_{i,j}^{n}*(v_{i,j}^{n})^2-F(1+k)v_{i,j}^{n})\n",
    "\\end{align}"
   ]
  },
  {
   "cell_type": "markdown",
   "metadata": {},
   "source": [
    "### Paramètres:"
   ]
  },
  {
   "cell_type": "code",
   "execution_count": 4,
   "metadata": {
    "collapsed": true
   },
   "outputs": [],
   "source": [
    "n = 192\n",
    "Du, Dv, F, k = 0.00016, 0.00008, 0.035, 0.065 # Bacteria 1 \n",
    "dh = 5/(n-1) #delta\n",
    "T = 8000\n",
    "dt = .9 * dh**2 / (4*max(Du,Dv))\n",
    "nt = int(T/dt)"
   ]
  },
  {
   "cell_type": "code",
   "execution_count": 7,
   "metadata": {
    "collapsed": false
   },
   "outputs": [],
   "source": [
    "def greyscott(u0,v0):\n",
    "    ucopy=u0.copy()\n",
    "    vcopy=v0.copy()\n",
    "    for k in range (3):\n",
    "        uk=ucopy.copy()\n",
    "        vk=vcopy.copy()\n",
    "        ucopy[1:-1,1:-1]=uk[1:-1,1:-1]*(1-4*dt/(dh**2))+dt*((uk[2:,1:-1]+uk[:-2,1:-1]+uk[1:-1,2:]+uk[1:-1,:-2])/(dh**2)\\\n",
    "                        -uk[1:-1,1:-1]*(vk[1:-1,1:-1])**2+F*(1-uk[1:-1,1:-1]))\n",
    "        vcopy[1:-1,1:-1]=vk[1:-1,1:-1]*(1-4*dt/(dh**2))+dt*((vk[2:,1:-1]+vk[:-2,1:-1]+vk[1:-1,2:]+vk[1:-1,:-2])/(dh**2)\\\n",
    "                        +uk[1:-1,1:-1]*(vk[1:-1,1:-1])**2-F*(1+k)*vk[1:-1,1:-1])\n",
    "        #conditions de Neumann:\n",
    "        ucopy[:,0]=ucopy[:,1]\n",
    "        ucopy[0,:]=ucopy[1,:]\n",
    "        ucopy[:,191]=ucopy[:,190]\n",
    "        ucopy[191,:]=ucopy[190,:]\n",
    "        vcopy[:,0]=vcopy[:,1]\n",
    "        vcopy[0,:]=vcopy[1,:]\n",
    "        vcopy[:,191]=vcopy[:,190]\n",
    "        vcopy[191,:]=vcopy[190,:]\n",
    "    return (ucopy,vcopy)"
   ]
  },
  {
   "cell_type": "code",
   "execution_count": 8,
   "metadata": {
    "collapsed": false
   },
   "outputs": [
    {
     "name": "stdout",
     "output_type": "stream",
     "text": [
      "[[ -3.41262453e+17  -3.41262453e+17  -9.59111018e+15 ...,   1.25856735e+15\n",
      "   -1.40699879e+15  -1.40699879e+15]\n",
      " [ -3.41262453e+17  -3.41262453e+17  -9.59111018e+15 ...,   1.25856735e+15\n",
      "   -1.40699879e+15  -1.40699879e+15]\n",
      " [ -1.04030203e+17  -1.04030203e+17   4.74053011e+17 ...,  -5.19765668e+16\n",
      "    2.30314610e+15   2.30314610e+15]\n",
      " ..., \n",
      " [  1.04445401e+17   1.04445401e+17   4.55448172e+17 ...,   1.77162735e+16\n",
      "   -1.02443211e+18  -1.02443211e+18]\n",
      " [ -4.88865044e+19  -4.88865044e+19  -6.88000720e+16 ...,   9.16397612e+16\n",
      "   -3.14756464e+18  -3.14756464e+18]\n",
      " [ -4.88865044e+19  -4.88865044e+19  -6.88000720e+16 ...,   9.16397612e+16\n",
      "   -3.14756464e+18  -3.14756464e+18]]\n"
     ]
    }
   ],
   "source": [
    "sol=greyscott(U,V)\n",
    "print(sol[0])"
   ]
  },
  {
   "cell_type": "code",
   "execution_count": null,
   "metadata": {
    "collapsed": true
   },
   "outputs": [],
   "source": []
  },
  {
   "cell_type": "code",
   "execution_count": null,
   "metadata": {
    "collapsed": true
   },
   "outputs": [],
   "source": []
  },
  {
   "cell_type": "markdown",
   "metadata": {
    "collapsed": true
   },
   "source": [
    "## Méthode implicite\n",
    "\n",
    "Nous allons le résoudre par un schéma implicite: la discrétisation dans l'espace s'effectue au temps n+1:\n",
    "\n",
    "$$\n",
    "\\begin{align}\n",
    "\\frac{u_{i,j}^{n+1}-u_{i,j}^{n}}{\\Delta t}= D_{u}*(\\frac{u_{i+1,j}^{n+1}-2u_{i,j}^{n+1}+u_{i-1,j}^{n+1}}{\\Delta x^2}+\\frac{u_{i,j+1}^{n+1}-2u_{i,j}^{n+1}+u_{i,j-1}^{n+1}}{\\Delta y^2})-u_{i,j}^{n}*(v_{i,j}^{n})^2+F(1-u_{i,j}^{n})\\\\\n",
    "\\frac{v_{i,j}^{n+1}-v_{i,j}^{n}}{\\Delta t}=D_{v}*(\\frac{v_{i+1,j}^{n+1}-2v_{i,j}^{n+1}+v_{i-1,j}^{n+1}}{\\Delta x^2}+\\frac{v_{i,j+1}^{n+1}-2v_{i,j}^{n+1}+v_{i,j-1}^{n+1}}{\\Delta y^2})+u_{i,j}^{n}*(v_{i,j}^{n})^2-F(1+k)v_{i,j}^{n})\n",
    "\\end{align}\n",
    "$$\n",
    "Le système d'équations différentielles à résoudre s'écrit:\n",
    "$$\n",
    "\\begin{align}\n",
    "\\frac{\\partial u}{\\partial t} &= D_u \\nabla ^2 u - uv^2 + F(1-u)\\\\\n",
    "\\frac{\\partial v}{\\partial t} &= D_v \\nabla ^2 v + uv^2 - (F + k)v\n",
    "\\end{align}\n",
    "$$\n",
    "Nous allons le discrétiser vers l'avant dans le temps et par un schéma centré dans l'espace (forward-time,centred-space). Nous commençons par le résoudre à l'aide d'un schéma explicite: la discrétisation dans l'espace s'effectue au temps n:\n",
    "$$\n",
    "\\begin{align}\n",
    "\\frac{u_{i,j}^{n+1}-u_{i,j}^{n}}{\\Delta t}= D_{u}*(\\frac{u_{i+1,j}^{n}-2u_{i,j}^{n}+u_{i-1,j}^{n}}{\\Delta x^2}+\\frac{u_{i,j+1}^{n}-2u_{i,j}^{n}+u_{i,j-1}^{n}}{\\Delta y^2})-u_{i,j}^{n}*(v_{i,j}^{n})^2+F(1-u_{i,j}^{n})\\\\\n",
    "\\frac{v_{i,j}^{n+1}-v_{i,j}^{n}}{\\Delta t}=D_{v}*(\\frac{v_{i+1,j}^{n}-2v_{i,j}^{n}+v_{i-1,j}^{n}}{\\Delta x^2}+\\frac{v_{i,j+1}^{n}-2v_{i,j}^{n}+v_{i,j-1}^{n}}{\\Delta y^2})+u_{i,j}^{n}*(v_{i,j}^{n})^2-F(1+k)v_{i,j}^{n})\n",
    "\\end{align}\n",
    "$$"
   ]
  },
  {
   "cell_type": "code",
   "execution_count": null,
   "metadata": {
    "collapsed": true
   },
   "outputs": [],
   "source": []
  },
  {
   "cell_type": "code",
   "execution_count": null,
   "metadata": {
    "collapsed": true
   },
   "outputs": [],
   "source": []
  }
 ],
 "metadata": {
  "anaconda-cloud": {},
  "kernelspec": {
   "display_name": "Python [conda root]",
   "language": "python",
   "name": "conda-root-py"
  },
  "language_info": {
   "codemirror_mode": {
    "name": "ipython",
    "version": 3
   },
   "file_extension": ".py",
   "mimetype": "text/x-python",
   "name": "python",
   "nbconvert_exporter": "python",
   "pygments_lexer": "ipython3",
   "version": "3.5.2"
  }
 },
 "nbformat": 4,
 "nbformat_minor": 1
}
