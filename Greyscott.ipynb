{
 "cells": [
  {
   "cell_type": "markdown",
   "metadata": {},
   "source": [
    "***Méthodes numériques: Module 4***\n",
    "\n",
    "# Grey Scott model\n",
    "\n",
    "Nous commencons par importer la librairie numpy, matplotlib et matplotlib.cm qui nous permettra de dessiner des **cartes**.\n",
    "Ensuite nous définissons tous nos paramètres et nous importons le fichier contenant les données initiales u et v qui se trouve dans le fichier data du même dépôt."
   ]
  },
  {
   "cell_type": "code",
   "execution_count": 4,
   "metadata": {
    "collapsed": true
   },
   "outputs": [],
   "source": [
    "import numpy\n",
    "from matplotlib import pyplot\n",
    "import matplotlib.cm as cm\n",
    "%matplotlib inline"
   ]
  },
  {
   "cell_type": "code",
   "execution_count": 16,
   "metadata": {
    "collapsed": false
   },
   "outputs": [
    {
     "name": "stdout",
     "output_type": "stream",
     "text": [
      "8301\n"
     ]
    }
   ],
   "source": [
    "n = 192\n",
    "Du, Dv, F, k = 0.00016, 0.00008, 0.035, 0.065 # Bacteria 1 \n",
    "dh = 5/(n-1)\n",
    "T = 8000\n",
    "dt = .9 * dh**2 / (4*max(Du,Dv))\n",
    "nt = int(T/dt)\n",
    "print (nt)"
   ]
  },
  {
   "cell_type": "code",
   "execution_count": 63,
   "metadata": {
    "collapsed": false
   },
   "outputs": [
    {
     "name": "stdout",
     "output_type": "stream",
     "text": [
      "[[ 1.03341932  1.00909902  1.03523907 ...,  1.01236     1.02769296\n",
      "   1.01185515]\n",
      " [ 1.02049366  1.03874603  1.03186003 ...,  1.00917594  1.00648275\n",
      "   1.01929723]\n",
      " [ 1.0297385   1.02874589  1.02488765 ...,  1.0345737   1.00195443\n",
      "   1.03189674]\n",
      " ..., \n",
      " [ 1.03851006  1.01833226  1.00260628 ...,  1.00514165  1.04292736\n",
      "   1.0090857 ]\n",
      " [ 1.03951143  1.0425582   1.03609776 ...,  1.00643229  1.04094253\n",
      "   1.03869138]\n",
      " [ 1.01132752  1.00554757  1.00241105 ...,  1.04435044  1.02683595\n",
      "   1.01239924]] [[ 0.04286057  0.01747253  0.03235064 ...,  0.0283667   0.03892816\n",
      "   0.0255146 ]\n",
      " [ 0.03567483  0.04898278  0.03607639 ...,  0.02100673  0.0305137\n",
      "   0.00374435]\n",
      " [ 0.04936444  0.0423903   0.00414055 ...,  0.02084643  0.03015715\n",
      "   0.03085144]\n",
      " ..., \n",
      " [ 0.03707045  0.03856759  0.01737007 ...,  0.00421018  0.03256909\n",
      "   0.00247397]\n",
      " [ 0.04781775  0.00190273  0.02729943 ...,  0.02507722  0.0468819\n",
      "   0.00760259]\n",
      " [ 0.01798466  0.02495585  0.04354743 ...,  0.00184759  0.01039884\n",
      "   0.01832535]]\n"
     ]
    }
   ],
   "source": [
    "uvinitial = numpy.load('./data/uvinitial.npz')\n",
    "U = uvinitial['U']\n",
    "V = uvinitial['V']\n",
    "print(U,V)"
   ]
  },
  {
   "cell_type": "markdown",
   "metadata": {
    "collapsed": true
   },
   "source": [
    "Le système d'équations différentielles à résoudre s'écrit:\n",
    "\n",
    "\n",
    "\\begin{align}\n",
    "\\frac{\\partial u}{\\partial t} &= D_u \\nabla ^2 u - uv^2 + F(1-u)\\\\\n",
    "\\frac{\\partial v}{\\partial t} &= D_v \\nabla ^2 v + uv^2 - (F + k)v\n",
    "\\end{align}\n",
    "\n",
    "## Méthode explicite\n",
    "\n",
    "Nous allons le discrétiser vers l'avant dans le temps et par un schéma centré dans l'espace (forward-time,centred-space). Nous allons le résoudre par un schéma explicite: la discrétisation dans l'espace s'effectue au temps n:\n",
    "\n",
    "\n",
    "\\begin{align}\n",
    "\\frac{u_{i,j}^{n+1}-u_{i,j}^{n}}{\\Delta t}= D_{u}*(\\frac{u_{i+1,j}^{n}-2u_{i,j}^{n}+u_{i-1,j}^{n}}{\\Delta x^2}+\\frac{u_{i,j+1}^{n}-2u_{i,j}^{n}+u_{i,j-1}^{n}}{\\Delta y^2})-u_{i,j}^{n}*(v_{i,j}^{n})^2+F(1-u_{i,j}^{n})\\\\\n",
    "\\frac{v_{i,j}^{n+1}-v_{i,j}^{n}}{\\Delta t}=D_{v}*(\\frac{v_{i+1,j}^{n}-2v_{i,j}^{n}+v_{i-1,j}^{n}}{\\Delta x^2}+\\frac{v_{i,j+1}^{n}-2v_{i,j}^{n}+v_{i,j-1}^{n}}{\\Delta y^2})+u_{i,j}^{n}*(v_{i,j}^{n})^2-F(1+k)v_{i,j}^{n}\n",
    "\\end{align}"
   ]
  },
  {
   "cell_type": "markdown",
   "metadata": {
    "collapsed": true
   },
   "source": [
    "On pose ensuite \n",
    "\\begin{align}\n",
    "\\Delta x^2=\\Delta y^2=\\delta^2\\\\\n",
    "\\Delta t= \\frac{9}{40}\\frac{\\delta^2}{\\max(D_u, D_v)}\n",
    "\\end{align}"
   ]
  },
  {
   "cell_type": "markdown",
   "metadata": {},
   "source": [
    "On met tous les termes connus dans le membre de droite et les termes inconnus dans le membre de gauche:"
   ]
  },
  {
   "cell_type": "markdown",
   "metadata": {},
   "source": [
    "\\begin{align}\n",
    "u_{i,j}^{n+1}=u_{i,j}^{n}+\\Delta t(Du*(\\frac{u_{i+1,j}^{n}-2u_{i,j}^{n}+u_{i-1,j}^{n}}{\\delta^2}+\\frac{u_{i,j+1}^{n}-2u_{i,j}^{n}+u_{i,j-1}^{n}}{\\delta^2})-u_{i,j}^{n}*(v_{i,j}^{n})^2+F(1-u_{i,j}^{n}))\\\\\n",
    "v_{i,j}^{n+1}=v_{i,j}^{n}+\\Delta t(Dv*(\\frac{v_{i+1,j}^{n}-2v_{i,j}^{n}+v_{i-1,j}^{n}}{\\delta^2}+\\frac{v_{i,j+1}^{n}-2v_{i,j}^{n}+v_{i,j-1}^{n}}{\\delta^2})+u_{i,j}^{n}*(v_{i,j}^{n})^2-F(1+k)v_{i,j}^{n})\n",
    "\\end{align}\n",
    "c'est-à-dire:\n",
    "\\begin{align}\n",
    "u_{i,j}^{n+1}=u_{i,j}^{n}*(1-4\\frac{\\Delta t*Du}{\\delta^2})+\\Delta t(Du*(\\frac{u_{i+1,j}^{n}+u_{i-1,j}^{n}+u_{i,j+1}^{n}+u_{i,j-1}^{n}}{\\delta^2})-u_{i,j}^{n}*(v_{i,j}^{n})^2+F(1-u_{i,j}^{n}))\\\\\n",
    "v_{i,j}^{n+1}=v_{i,j}^{n}*(1-4\\frac{\\Delta t*Dv}{\\delta^2})+\\Delta t(Dv*(\\frac{v_{i+1,j}^{n}+v_{i-1,j}^{n}+v_{i,j+1}^{n}+v_{i,j-1}^{n}}{\\delta^2})+u_{i,j}^{n}*(v_{i,j}^{n})^2-F(1+k)v_{i,j}^{n})\n",
    "\\end{align}"
   ]
  },
  {
   "cell_type": "markdown",
   "metadata": {},
   "source": [
    "### Paramètres:"
   ]
  },
  {
   "cell_type": "code",
   "execution_count": 129,
   "metadata": {
    "collapsed": false
   },
   "outputs": [
    {
     "name": "stdout",
     "output_type": "stream",
     "text": [
      "0.065\n"
     ]
    }
   ],
   "source": [
    "n = 192\n",
    "Du, Dv, F, k = 0.00016, 0.00008, 0.035, 0.065 # Bacteria 1 \n",
    "dh = 5/(n-1) #delta\n",
    "T = 8000\n",
    "dt = .9 * dh**2 / (4*max(Du,Dv))\n",
    "nt = int(T/dt)\n",
    "print(k)"
   ]
  },
  {
   "cell_type": "code",
   "execution_count": 134,
   "metadata": {
    "collapsed": false
   },
   "outputs": [],
   "source": [
    "def greyscott(u0,v0):\n",
    "    ucopy=u0.copy()\n",
    "    vcopy=v0.copy()\n",
    "    for k in range (80):\n",
    "        uk=ucopy.copy()\n",
    "        vk=vcopy.copy()\n",
    "        ucopy[1:-1,1:-1]=uk[1:-1,1:-1]*(1-4*dt*Du/dh**2)+dt*Du*(uk[2:,1:-1]+uk[:-2,1:-1]+uk[1:-1,2:]+uk[1:-1,:-2])/(dh**2)\\\n",
    "                        -dt*uk[1:-1,1:-1]*(vk[1:-1,1:-1])**2+dt*F*(1-uk[1:-1,1:-1])\n",
    "        vcopy[1:-1,1:-1]=vk[1:-1,1:-1]*(1-4*dt*Dv/dh**2)+dt*Dv*(vk[2:,1:-1]+vk[:-2,1:-1]+vk[1:-1,2:]+vk[1:-1,:-2])/(dh**2)\\\n",
    "                        +dt*uk[1:-1,1:-1]*vk[1:-1,1:-1]**2-dt*F*(1+k)*vk[1:-1,1:-1]\n",
    "        #conditions de Neumann:\n",
    "        ucopy[:,0]=ucopy[:,1]\n",
    "        ucopy[0,:]=ucopy[1,:]\n",
    "        ucopy[:,191]=ucopy[:,190]\n",
    "        ucopy[191,:]=ucopy[190,:]\n",
    "        vcopy[:,0]=vcopy[:,1]\n",
    "        vcopy[0,:]=vcopy[1,:]\n",
    "        vcopy[:,191]=vcopy[:,190]\n",
    "        vcopy[191,:]=vcopy[190,:]\n",
    "    return (ucopy,vcopy)"
   ]
  },
  {
   "cell_type": "code",
   "execution_count": 135,
   "metadata": {
    "collapsed": false
   },
   "outputs": [
    {
     "name": "stdout",
     "output_type": "stream",
     "text": [
      "[  1.00119866e+00   1.00119866e+00   1.00088296e+00   1.00033630e+00\n",
      "   9.99741569e-01   9.99175872e-01   9.98864904e-01   9.98686398e-01\n",
      "   9.98822041e-01   9.99034075e-01   9.99446450e-01   9.99858545e-01\n",
      "   1.00032547e+00   1.00072747e+00   1.00105511e+00   1.00125173e+00\n",
      "   1.00130042e+00   1.00120019e+00   1.00096798e+00   1.00063677e+00\n",
      "   1.00020748e+00   9.99733916e-01   9.99155390e-01   9.98604011e-01\n",
      "   9.97928861e-01   9.97280322e-01   9.96063009e-01   9.93687866e-01\n",
      "   9.86232016e-01   9.65876027e-01   8.91622063e-01   7.44653716e-01\n",
      "   1.91156296e-01   7.63266593e-03  -1.72910214e+00   1.03300323e-01\n",
      "  -2.17392971e+00   7.05980521e-01  -2.16576486e+00   1.01726274e-01\n",
      "   4.44784145e-01  -1.90868232e+00   1.73510913e+01  -2.30546306e+01\n",
      "  -3.20634594e+01  -1.42404173e+02   1.28983979e+02  -1.34375794e+04\n",
      "   1.67749934e+01  -1.17098539e+05   3.86776098e+03  -1.08357704e+05\n",
      "   3.94904360e+03  -1.31483149e+05   2.15419823e+03  -3.90384542e+04\n",
      "   1.14860694e+02  -6.07313045e+00   7.18294728e+01   1.52451114e+00\n",
      "   3.41923172e+00  -2.24985150e+00   2.59277371e-02   4.54678927e-01\n",
      "   8.38419111e-01   9.02850443e-01   9.05913669e-01   8.06243692e-01\n",
      "   6.74230335e-01   1.91956957e-01   1.46636170e-01  -8.34969379e-01\n",
      "  -9.95443375e-02  -7.23759858e-01   4.19976619e-01   9.04754119e-01\n",
      "  -4.93506107e-01   5.25488890e-01   1.53418370e+00   2.39938968e+01\n",
      "  -1.55208213e+01   7.01286554e+01  -2.49944952e+01   5.23585677e+01\n",
      "  -2.46275600e+01   7.03515323e+01  -1.95015121e+01   3.60534915e+01\n",
      "   1.76921529e+00   5.81795844e+00  -1.91160009e+00  -1.80882829e-01\n",
      "  -7.83212584e-01   4.65380976e-01   7.58148560e-01   9.39748527e-01\n",
      "   9.84924653e-01   9.97006464e-01   9.99380561e-01   9.99942407e-01\n",
      "   1.00015769e+00   1.00021834e+00   1.00018306e+00   1.00014002e+00\n",
      "   1.00012775e+00   1.00018194e+00   1.00025905e+00   1.00035360e+00\n",
      "   1.00041455e+00   1.00044054e+00   1.00039166e+00   1.00026873e+00\n",
      "   1.00001473e+00   9.99648585e-01   9.99076595e-01   9.98399145e-01\n",
      "   9.97407463e-01   9.96302003e-01   9.94438097e-01   9.91909091e-01\n",
      "   9.86296327e-01   9.76545371e-01   9.50420936e-01   9.06391489e-01\n",
      "   7.76952146e-01   6.48404968e-01   1.88482148e-01   1.50975061e-01\n",
      "  -6.71047667e-01  -4.33783154e-02   1.48330471e-01   2.65553549e+00\n",
      "   3.49394575e-01   2.16054785e+01  -1.62292866e+01   2.14349887e+02\n",
      "   2.28382139e+05   4.05029331e+11  -4.74866997e+10  -8.63174420e+14\n",
      "  -3.71501392e+23   9.33568093e+20  -7.92542852e+27   4.32043832e+10\n",
      "  -1.93431130e+09   1.17042670e+10  -6.66231366e+02  -8.17283154e+03\n",
      "   6.12526686e+08  -3.43157175e+08   7.68891890e+14  -1.81216853e+10\n",
      "   5.88599860e+13  -1.59499088e+07   6.70600390e+01  -1.05137127e+05\n",
      "  -1.85609707e+02  -2.29591658e+01   9.36848805e+00  -2.35414132e+00\n",
      "   3.83715709e-02   6.10261297e-01   9.33887747e-01   9.90414273e-01\n",
      "   9.99795689e-01   9.99705152e-01   9.98250204e-01   9.96655769e-01\n",
      "   9.94556889e-01   9.92609556e-01   9.89882426e-01   9.88249159e-01\n",
      "   9.85923724e-01   9.85804058e-01   9.85015997e-01   9.86558648e-01\n",
      "   9.87186756e-01   9.89332204e-01   9.90425459e-01   9.92274518e-01\n",
      "   9.93275119e-01   9.94709600e-01   9.95639522e-01   9.96858489e-01\n",
      "   9.97797676e-01   9.98820764e-01   9.99616127e-01   1.00029864e+00\n",
      "   1.00077020e+00   1.00107500e+00   1.00121859e+00   1.00121859e+00]\n"
     ]
    }
   ],
   "source": [
    "sol=greyscott(U,V)\n",
    "print(sol[0][100])"
   ]
  },
  {
   "cell_type": "markdown",
   "metadata": {
    "collapsed": true
   },
   "source": []
  },
  {
   "cell_type": "code",
   "execution_count": null,
   "metadata": {
    "collapsed": true
   },
   "outputs": [],
   "source": []
  },
  {
   "cell_type": "code",
   "execution_count": null,
   "metadata": {
    "collapsed": true
   },
   "outputs": [],
   "source": []
  },
  {
   "cell_type": "code",
   "execution_count": null,
   "metadata": {
    "collapsed": true
   },
   "outputs": [],
   "source": []
  },
  {
   "cell_type": "code",
   "execution_count": null,
   "metadata": {
    "collapsed": true
   },
   "outputs": [],
   "source": []
  },
  {
   "cell_type": "code",
   "execution_count": null,
   "metadata": {
    "collapsed": true
   },
   "outputs": [],
   "source": []
  },
  {
   "cell_type": "code",
   "execution_count": null,
   "metadata": {
    "collapsed": true
   },
   "outputs": [],
   "source": []
  },
  {
   "cell_type": "code",
   "execution_count": null,
   "metadata": {
    "collapsed": true
   },
   "outputs": [],
   "source": []
  },
  {
   "cell_type": "markdown",
   "metadata": {
    "collapsed": true
   },
   "source": [
    "## Méthode implicite\n",
    "\n",
    "Cette fois-ci nous utilisons la méthode implicite: la discrétisation dans l'espace s'effectue au temps n+1:\n",
    "\\begin{align}\n",
    "\\frac{u_{i,j}^{n+1}-u_{i,j}^{n}}{\\Delta t}= D_{u}*(\\frac{u_{i+1,j}^{n+1}-2u_{i,j}^{n+1}+u_{i-1,j}^{n+1}}{\\Delta x^2}+\\frac{u_{i,j+1}^{n+1}-2u_{i,j}^{n+1}+u_{i,j-1}^{n+1}}{\\Delta y^2})-u_{i,j}^{n}*(v_{i,j}^{n})^2+F(1-u_{i,j}^{n})\\\\\n",
    "\\frac{v_{i,j}^{n+1}-v_{i,j}^{n}}{\\Delta t}=D_{v}*(\\frac{v_{i+1,j}^{n+1}-2v_{i,j}^{n+1}+v_{i-1,j}^{n+1}}{\\Delta x^2}+\\frac{v_{i,j+1}^{n+1}-2v_{i,j}^{n+1}+v_{i,j-1}^{n+1}}{\\Delta y^2})+u_{i,j}^{n}*(v_{i,j}^{n})^2-F(1+k)v_{i,j}^{n})\n",
    "\\end{align}\n"
   ]
  },
  {
   "cell_type": "markdown",
   "metadata": {
    "collapsed": true
   },
   "source": []
  },
  {
   "cell_type": "code",
   "execution_count": null,
   "metadata": {
    "collapsed": true
   },
   "outputs": [],
   "source": []
  }
 ],
 "metadata": {
  "anaconda-cloud": {},
  "kernelspec": {
   "display_name": "Python [conda root]",
   "language": "python",
   "name": "conda-root-py"
  },
  "language_info": {
   "codemirror_mode": {
    "name": "ipython",
    "version": 3
   },
   "file_extension": ".py",
   "mimetype": "text/x-python",
   "name": "python",
   "nbconvert_exporter": "python",
   "pygments_lexer": "ipython3",
   "version": "3.5.2"
  }
 },
 "nbformat": 4,
 "nbformat_minor": 1
}
