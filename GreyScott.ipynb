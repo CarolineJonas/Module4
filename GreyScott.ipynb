{
 "cells": [
  {
   "cell_type": "code",
   "execution_count": 1,
   "metadata": {
    "collapsed": false
   },
   "outputs": [],
   "source": [
    "import numpy\n",
    "uvinitial = numpy.load('./data/uvinitial.npz')\n",
    "U = uvinitial['U']\n",
    "V = uvinitial['V']"
   ]
  },
  {
   "cell_type": "code",
   "execution_count": 3,
   "metadata": {
    "collapsed": false
   },
   "outputs": [
    {
     "name": "stdout",
     "output_type": "stream",
     "text": [
      "[[ 0.04286057  0.01747253  0.03235064 ...,  0.0283667   0.03892816\n",
      "   0.0255146 ]\n",
      " [ 0.03567483  0.04898278  0.03607639 ...,  0.02100673  0.0305137\n",
      "   0.00374435]\n",
      " [ 0.04936444  0.0423903   0.00414055 ...,  0.02084643  0.03015715\n",
      "   0.03085144]\n",
      " ..., \n",
      " [ 0.03707045  0.03856759  0.01737007 ...,  0.00421018  0.03256909\n",
      "   0.00247397]\n",
      " [ 0.04781775  0.00190273  0.02729943 ...,  0.02507722  0.0468819\n",
      "   0.00760259]\n",
      " [ 0.01798466  0.02495585  0.04354743 ...,  0.00184759  0.01039884\n",
      "   0.01832535]]\n"
     ]
    }
   ],
   "source": [
    "print(V)"
   ]
  },
  {
   "cell_type": "code",
   "execution_count": null,
   "metadata": {
    "collapsed": true
   },
   "outputs": [],
   "source": []
  }
 ],
 "metadata": {
  "anaconda-cloud": {},
  "kernelspec": {
   "display_name": "Python [conda root]",
   "language": "python",
   "name": "conda-root-py"
  },
  "language_info": {
   "codemirror_mode": {
    "name": "ipython",
    "version": 3
   },
   "file_extension": ".py",
   "mimetype": "text/x-python",
   "name": "python",
   "nbconvert_exporter": "python",
   "pygments_lexer": "ipython3",
   "version": "3.5.2"
  }
 },
 "nbformat": 4,
 "nbformat_minor": 1
}
